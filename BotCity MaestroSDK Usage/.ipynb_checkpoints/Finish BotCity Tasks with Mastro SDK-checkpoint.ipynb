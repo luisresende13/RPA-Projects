{
 "cells": [
  {
   "cell_type": "markdown",
   "metadata": {},
   "source": [
    "#### Install Maestro SDK"
   ]
  },
  {
   "cell_type": "code",
   "execution_count": 2,
   "metadata": {},
   "outputs": [
    {
     "name": "stdout",
     "output_type": "stream",
     "text": [
      "Collecting botcity-maestro-sdk\n",
      "  Using cached botcity-maestro-sdk-0.1.5.tar.gz (31 kB)\n",
      "Requirement already satisfied: requests in c:\\users\\luisr\\anaconda3\\lib\\site-packages (from botcity-maestro-sdk) (2.23.0)\n",
      "Requirement already satisfied: idna<3,>=2.5 in c:\\users\\luisr\\anaconda3\\lib\\site-packages (from requests->botcity-maestro-sdk) (2.10)\n",
      "Requirement already satisfied: certifi>=2017.4.17 in c:\\users\\luisr\\anaconda3\\lib\\site-packages (from requests->botcity-maestro-sdk) (2020.6.20)\n",
      "Requirement already satisfied: urllib3!=1.25.0,!=1.25.1,<1.26,>=1.21.1 in c:\\users\\luisr\\anaconda3\\lib\\site-packages (from requests->botcity-maestro-sdk) (1.25.7)\n",
      "Requirement already satisfied: chardet<4,>=3.0.2 in c:\\users\\luisr\\anaconda3\\lib\\site-packages (from requests->botcity-maestro-sdk) (3.0.4)\n",
      "Building wheels for collected packages: botcity-maestro-sdk\n",
      "  Building wheel for botcity-maestro-sdk (setup.py): started\n",
      "  Building wheel for botcity-maestro-sdk (setup.py): finished with status 'done'\n",
      "  Created wheel for botcity-maestro-sdk: filename=botcity_maestro_sdk-0.1.5-py3-none-any.whl size=14622 sha256=798f93224d652ab66ca3d98f238f8109c4c8cef45e8711a4d14914409de8af9b\n",
      "  Stored in directory: c:\\users\\luisr\\appdata\\local\\pip\\cache\\wheels\\2d\\59\\87\\65e0787e028d6b94370e416892a02e8431442d0bbb77bc99d8\n",
      "Successfully built botcity-maestro-sdk\n",
      "Installing collected packages: botcity-maestro-sdk\n",
      "Successfully installed botcity-maestro-sdk-0.1.5\n"
     ]
    }
   ],
   "source": [
    "# !pip install botcity-maestro-sdk # Uncomment if you haven't installed Maestro yet"
   ]
  },
  {
   "cell_type": "markdown",
   "metadata": {},
   "source": [
    "#### Reference:\n",
    "\n",
    "1. BotCity Python Maestro SDK: https://documentation.botcity.dev/maestro/maestro-sdk/python/"
   ]
  },
  {
   "cell_type": "markdown",
   "metadata": {},
   "source": [
    "## Python Maestro SDK setup"
   ]
  },
  {
   "cell_type": "code",
   "execution_count": 1,
   "metadata": {},
   "outputs": [],
   "source": [
    "# Import necessary modules and functions\n",
    "from IPython.display import clear_output as co\n",
    "import pandas as pd\n",
    "\n",
    "# Import everything from the Maestro SDK\n",
    "from botcity.maestro import *\n",
    "\n",
    "# Create a new Maestro Client\n",
    "maestro = BotMaestroSDK()\n",
    "\n",
    "# Log in credentials\n",
    "cred = json.loads(open('credentials.json', 'r').read())\n",
    "server, user, key = cred.values()\n",
    "\n",
    "maestro.login(server, user, key)"
   ]
  },
  {
   "cell_type": "markdown",
   "metadata": {},
   "source": [
    "## Finish all tasks with success status"
   ]
  },
  {
   "cell_type": "markdown",
   "metadata": {},
   "source": [
    "#### Testing for first task"
   ]
  },
  {
   "cell_type": "code",
   "execution_count": 2,
   "metadata": {},
   "outputs": [],
   "source": [
    "first = 102872"
   ]
  },
  {
   "cell_type": "code",
   "execution_count": 3,
   "metadata": {},
   "outputs": [
    {
     "data": {
      "text/plain": [
       "AutomationTask(id=102872, state='RUNNING', parameters={'organizationId': 9205}, input_file=None, activity_id=187, agent_id='atvd-01', user_creation_id=None, user_creation_name='null null', org_creation_id=9205, date_creation='Jul 22, 2022 5:52:00 AM', date_last_modified='Jul 22, 2022 5:52:00 AM', finish_status=None, finish_message=None, test=False)"
      ]
     },
     "execution_count": 3,
     "metadata": {},
     "output_type": "execute_result"
    }
   ],
   "source": [
    "task = maestro.get_task(first); task"
   ]
  },
  {
   "cell_type": "code",
   "execution_count": 4,
   "metadata": {},
   "outputs": [
    {
     "data": {
      "text/plain": [
       "ServerMessage(message='success', type='success', payload='{\"type\":\"success\",\"message\":\"success\"}')"
      ]
     },
     "execution_count": 4,
     "metadata": {},
     "output_type": "execute_result"
    }
   ],
   "source": [
    "maestro.finish_task(\n",
    "    task_id=102872,\n",
    "    status=AutomationTaskFinishStatus.SUCCESS,\n",
    "    message=\"Task Finished by Maestro SDK Remotely with Success.\"\n",
    ")"
   ]
  },
  {
   "cell_type": "markdown",
   "metadata": {},
   "source": [
    "#### Define function to finish tasks by 'task id' interval"
   ]
  },
  {
   "cell_type": "code",
   "execution_count": 9,
   "metadata": {},
   "outputs": [],
   "source": [
    "def finish_tasks(first, last):\n",
    "    fail = {}; print('Finish tasks started...')\n",
    "    for i, task_id in enumerate(range(first, last+1)):\n",
    "        try:\n",
    "            task = maestro.get_task(task_id)\n",
    "            if task.state=='FINISHED':\n",
    "                fail[task_id] = 'Already finished'\n",
    "            else:\n",
    "                try:\n",
    "                    maestro.finish_task(\n",
    "                        task_id=task_id,\n",
    "                        status=AutomationTaskFinishStatus.SUCCESS,\n",
    "                        message=\"Task Finished by Maestro SKD Remotely with Success.\"\n",
    "                    )\n",
    "                    fail[task_id] = 'Finished'\n",
    "                except Exception as e:\n",
    "                    fail[task_id] = type(e).__name__\n",
    "        except ValueError:\n",
    "            fail[task_id] = 'Not found'\n",
    "        except Exception as e:\n",
    "            fail[task_id] = type(e).__name__\n",
    "            \n",
    "        co(wait=True); print(f'{i+1}/{last-first+1} tasks processed.'); print()\n",
    "        display(pd.Series(fail).value_counts().to_frame('Result Count'))\n",
    "    return fail"
   ]
  },
  {
   "cell_type": "markdown",
   "metadata": {},
   "source": [
    "### Finishing tasks"
   ]
  },
  {
   "cell_type": "code",
   "execution_count": 10,
   "metadata": {},
   "outputs": [
    {
     "name": "stdout",
     "output_type": "stream",
     "text": [
      "100/100 tasks processed.\n",
      "\n"
     ]
    },
    {
     "data": {
      "text/html": [
       "<div>\n",
       "<style scoped>\n",
       "    .dataframe tbody tr th:only-of-type {\n",
       "        vertical-align: middle;\n",
       "    }\n",
       "\n",
       "    .dataframe tbody tr th {\n",
       "        vertical-align: top;\n",
       "    }\n",
       "\n",
       "    .dataframe thead th {\n",
       "        text-align: right;\n",
       "    }\n",
       "</style>\n",
       "<table border=\"1\" class=\"dataframe\">\n",
       "  <thead>\n",
       "    <tr style=\"text-align: right;\">\n",
       "      <th></th>\n",
       "      <th>Result Count</th>\n",
       "    </tr>\n",
       "  </thead>\n",
       "  <tbody>\n",
       "    <tr>\n",
       "      <th>Finished</th>\n",
       "      <td>73</td>\n",
       "    </tr>\n",
       "    <tr>\n",
       "      <th>Already finished</th>\n",
       "      <td>16</td>\n",
       "    </tr>\n",
       "    <tr>\n",
       "      <th>Not found</th>\n",
       "      <td>11</td>\n",
       "    </tr>\n",
       "  </tbody>\n",
       "</table>\n",
       "</div>"
      ],
      "text/plain": [
       "                  Result Count\n",
       "Finished                    73\n",
       "Already finished            16\n",
       "Not found                   11"
      ]
     },
     "metadata": {},
     "output_type": "display_data"
    }
   ],
   "source": [
    "first = 102876\n",
    "last = 102975\n",
    "\n",
    "fail = finish_tasks(first, last)"
   ]
  },
  {
   "cell_type": "markdown",
   "metadata": {},
   "source": [
    "### Check exceptions"
   ]
  },
  {
   "cell_type": "code",
   "execution_count": 11,
   "metadata": {},
   "outputs": [
    {
     "data": {
      "text/html": [
       "<div>\n",
       "<style scoped>\n",
       "    .dataframe tbody tr th:only-of-type {\n",
       "        vertical-align: middle;\n",
       "    }\n",
       "\n",
       "    .dataframe tbody tr th {\n",
       "        vertical-align: top;\n",
       "    }\n",
       "\n",
       "    .dataframe thead th {\n",
       "        text-align: right;\n",
       "    }\n",
       "</style>\n",
       "<table border=\"1\" class=\"dataframe\">\n",
       "  <thead>\n",
       "    <tr style=\"text-align: right;\">\n",
       "      <th></th>\n",
       "      <th>Result Count</th>\n",
       "    </tr>\n",
       "  </thead>\n",
       "  <tbody>\n",
       "    <tr>\n",
       "      <th>Finished</th>\n",
       "      <td>73</td>\n",
       "    </tr>\n",
       "    <tr>\n",
       "      <th>Already finished</th>\n",
       "      <td>16</td>\n",
       "    </tr>\n",
       "    <tr>\n",
       "      <th>Not found</th>\n",
       "      <td>11</td>\n",
       "    </tr>\n",
       "  </tbody>\n",
       "</table>\n",
       "</div>"
      ],
      "text/plain": [
       "                  Result Count\n",
       "Finished                    73\n",
       "Already finished            16\n",
       "Not found                   11"
      ]
     },
     "execution_count": 11,
     "metadata": {},
     "output_type": "execute_result"
    }
   ],
   "source": [
    "pd.Series(fail).value_counts().to_frame('Result Count')"
   ]
  }
 ],
 "metadata": {
  "kernelspec": {
   "display_name": "Python 3",
   "language": "python",
   "name": "python3"
  },
  "language_info": {
   "codemirror_mode": {
    "name": "ipython",
    "version": 3
   },
   "file_extension": ".py",
   "mimetype": "text/x-python",
   "name": "python",
   "nbconvert_exporter": "python",
   "pygments_lexer": "ipython3",
   "version": "3.8.3"
  }
 },
 "nbformat": 4,
 "nbformat_minor": 4
}
